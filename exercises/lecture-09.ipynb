{
 "cells": [
  {
   "cell_type": "markdown",
   "metadata": {},
   "source": [
    "# Υποπρογράμματα\n",
    "\n",
    "## Άσκηση 1\n",
    "\n",
    "Αρχικά ζητάμε από το χρήστη να δώσει αριθμό για διαίρεση με το 5. Στη συνέχεια καλούμε τη συνάρτηση `foo` και παίρνει σαν παράμετρο τον αριθμό που δήλωσε ο χρήστης προηγουμένος. Τέλος εμφανίζουμε το αποτέλεσμα της διάιρεσης της παραμέτρου με το 5 στην οθόνη του χρήστη."
   ]
  },
  {
   "cell_type": "code",
   "execution_count": null,
   "metadata": {},
   "outputs": [],
   "source": [
    "# Δημιουργία συνάρτησης foo\n",
    "def foo(x):\n",
    "  # Επιστρέφει τη διάιρεση της παραμέτρου με το 5\n",
    "  return x / 5\n",
    "\n",
    "\n",
    "# Ζητάμε από το χρήστη να δώσει αριθμό για διαίρεση με το 5\n",
    "x = int(input(\"Δώσε αριθμό για διαίρεση με το 5: \"))\n",
    "\n",
    "# Καλούμε τη συνάρτηση foo και εκτύπωνουμε\n",
    "print(foo(x))"
   ]
  },
  {
   "cell_type": "markdown",
   "metadata": {},
   "source": [
    "## Άσκηση 2\n",
    "\n",
    "Τι θα εµφανιστεί αν δώσουµε ως τιµή εισόδου στο πρόγραµµα την τιµή 5 και τι την τιµή 10."
   ]
  },
  {
   "cell_type": "code",
   "execution_count": null,
   "metadata": {},
   "outputs": [],
   "source": [
    "def apot(x):\n",
    "  return x % 2\n",
    "\n",
    "\n",
    "def foo(n):\n",
    "  apot1 = n * 2\n",
    "  n = apot1 * 2\n",
    "  return n, apot1\n",
    "\n",
    "\n",
    "a = int(input(\"Δώσε αριθμό: \"))\n",
    "\n",
    "if apot(a) == 0:\n",
    "  a, n = foo(a)\n",
    "  print(a, n)\n",
    "else:\n",
    "  print(apot(a))"
   ]
  },
  {
   "cell_type": "markdown",
   "metadata": {},
   "source": [
    "## Άσκηση 3\n",
    "\n",
    "Να γραφεί µια συνάρτηση η οποία θα δέχεται µια λίστα µε αριθµούς και θα την ταξινοµεί."
   ]
  },
  {
   "cell_type": "code",
   "execution_count": null,
   "metadata": {},
   "outputs": [],
   "source": [
    "# Δημιουργία συνάρτησης sort\n",
    "def sort(pList):\n",
    "  \"\"\" Αυτή η συνάρτηση ταξινομεί τη λίστα κατά αύξουσα σειρά.\"\"\"\n",
    "  for i in range(1, len(pList)):\n",
    "    for j in range(len(pList) - 1, i - 1, -1):\n",
    "      if pList[j - 1] > pList[j]:\n",
    "        # Swap pList\n",
    "        temp = pList[j - 1]\n",
    "        pList[j - 1] = pList[j]\n",
    "        pList[j] = temp\n",
    "  # Επιστρέφει τη pList\n",
    "  return pList\n",
    "\n",
    "\n",
    "# Δημιουργία λίστας\n",
    "lista = [1, 6, 2, 5, 3, 7, 4]\n",
    "\n",
    "# Καλούμε τη συνάρτηση sort και εκτύπωνουμε\n",
    "print(sort(lista[:]))"
   ]
  },
  {
   "cell_type": "markdown",
   "metadata": {},
   "source": [
    "## Άσκηση 4\n",
    "\n",
    "Ένας μεταπτυχιακός φοιτητής για να μπορέσει να πάρει πτυχίο πρέπει να περάσει συγκεκριμένο αριθμό μαθημάτων ανάλογα με το Τμήμα που φοιτά. Ο φοιτητής δίνει τον αριθμό των μαθημάτων που χρειάζεται για να πάρει πτυχίο και στη συνέχεια καταχωρείται η βαθμολογία των μαθημάτων σε μία λίστα με χρήση συνάρτησης. Με τη χρήση συνάρτησης θα πρέπει να υπολογίζεται ο μέσος όρος. Τέλος θα εμφανίζεται στην οθόνη ο μέσος όρος και έπειτα χρησιμοποιώντας εκ νέου μία συνάρτηση θα εμφανίζεται αν ο φοιτητής πέρασε ή κόπηκε."
   ]
  },
  {
   "cell_type": "code",
   "execution_count": null,
   "metadata": {},
   "outputs": [],
   "source": [
    "def readNums(x):\n",
    "    lista = []\n",
    "    for numbers in range(x):\n",
    "        arithmos = float(input(\"Δώσε αριθμό: \"))\n",
    "        lista.append(arithmos)\n",
    "    return lista\n",
    "\n",
    "def mesosOros(x):\n",
    "    athroisma = 0\n",
    "    for stoixeio in x:\n",
    "        athroisma += stoixeio\n",
    "    mo = athroisma / len(x)\n",
    "    return mo\n",
    "\n",
    "def vathmologia(a):\n",
    "    if a >= 5:\n",
    "        print(\"Πέρασες\")\n",
    "    else:\n",
    "        print(\"Κόπηκες\")\n",
    "\n",
    "\n",
    "stoixeio = int(input(\"Δώσε στοιχεία που περιέχει η λίστα: \"))\n",
    "numbers = readNums(stoixeio)\n",
    "mesosoros = mesosOros(numbers)\n",
    "print(\"Ο μέσος όρος είναι\", mesosoros)\n",
    "vathmologia(mesosoros)"
   ]
  }
 ],
 "metadata": {
  "language_info": {
   "name": "python"
  },
  "orig_nbformat": 4
 },
 "nbformat": 4,
 "nbformat_minor": 2
}
