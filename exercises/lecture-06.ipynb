{
 "cells": [
  {
   "cell_type": "markdown",
   "metadata": {},
   "source": [
    "# Η εντολή επανάληψης for\n",
    "\n",
    "## Άσκηση 1\n",
    "\n",
    "Να γραφεί πρόγραµµα που να διαβάζει 100 ακεραίους αριθμούς και να τους εμφανίζει ανάποδα από τη σειρά που διαβάστηκαν."
   ]
  },
  {
   "cell_type": "code",
   "execution_count": null,
   "metadata": {},
   "outputs": [],
   "source": [
    "# Αρχικοποίηση μεταβλητών\n",
    "MAX_ELEMENTS = 100\n",
    "lista = []\n",
    "\n",
    "# Για MAX_ELEMENTS\n",
    "for i in range(MAX_ELEMENTS):\n",
    "  # Ζητάμε από το χρήστη να δώσει αριθμό, το μετατρέπουμε σε ακέραιο και το αποθηκεύουμε στη λίστα\n",
    "  lista.append(int(input(\"Δώσε αριθμό: \")))\n",
    "\n",
    "for i in range(MAX_ELEMENTS - 1, -1, -1):\n",
    "  # Εκτύπωση κάθε φορά το στιγμιαίο στοιχείο\n",
    "  print(lista[i])"
   ]
  },
  {
   "cell_type": "markdown",
   "metadata": {},
   "source": [
    "## Άσκηση 2\n",
    "\n",
    "Ένα σχολείο έχει 200 μαθητές στην Γ’ τάξη λυκείου. Να γίνει πρόγραµµα το οποίο θα διαβάζει τους βαθμούς απολυτηρίου των μαθητών και θα εμφανίζει τους μαθητές που ο βαθμός τους είναι µεγαλύτερος από το µέσο όρο των αποφοίτων."
   ]
  },
  {
   "cell_type": "code",
   "execution_count": null,
   "metadata": {},
   "outputs": [],
   "source": [
    "# Αρχικοποίηση μεταβλητών\n",
    "ΜAX_ELEMENTS = 200\n",
    "vath = []\n",
    "sum = 0\n",
    "\n",
    "# Για ΜAX_ELEMENTS\n",
    "for i in range(ΜAX_ELEMENTS):\n",
    "  # Ζητάμε απο το χρήστη να δώσει βαθμό και το μετατρέπουμε σε ακέραιο\n",
    "  num = int(input(\"Δώσε βαθμό: \"))\n",
    "  # Αποθηκεύουμε τον αριθμό στη λίστα vath\n",
    "  vath.append(num)\n",
    "  # Αυξάνουμε το sum κατά num\n",
    "  sum += num\n",
    "\n",
    "# Υπολογίζουμε το μέσο όρο\n",
    "mo = sum / ΜAX_ELEMENTS\n",
    "\n",
    "# Για ΜAX_ELEMENTS\n",
    "for i in range(ΜAX_ELEMENTS):\n",
    "  # Εάν το στιγμιαίο στοιχείο της λίστας είναι μεγαλύτερο από το μέσο όρο\n",
    "  if vath[i] > mo:\n",
    "    # Εκτύπωση το στιγμιαίο i\n",
    "    print(i)"
   ]
  },
  {
   "cell_type": "markdown",
   "metadata": {},
   "source": [
    "## Άσκηση 3\n",
    "\n",
    "Ένας µετεωρολόγος καταγράφει τις θερμοκρασίες των ημερών ενός μήνα 30 ημερών που σημειώθηκαν στο κέντρο µιας πόλης στις 12 το μεσημέρι. Να γίνει πρόγραµµα που θα διαβάζει τις θερμοκρασίες αυτές, θα τις καταχωρεί σε µία λίστα και θα υπολογίζει και να εκτυπώνει την ελάχιστη θερμοκρασία και την ημέρα που σημειώθηκε καθώς και τη µέγιστη θερμοκρασία και την ημέρα που σημειώθηκε."
   ]
  },
  {
   "cell_type": "code",
   "execution_count": null,
   "metadata": {},
   "outputs": [],
   "source": [
    "# Aρχικοποίηση μεταβλητών\n",
    "MAX_ELEMENTS = 30\n",
    "temp = []\n",
    "\n",
    "# Για MAX_ELEMENTS\n",
    "for i in range(MAX_ELEMENTS):\n",
    "  # Ζητάμε απο το χρήστη να δώσει θερμοκρασία και τη μετατρέπουμε σε ακέραιο\n",
    "  num = int(input(\"Δώσε θερμοκρασία: \"))\n",
    "  # Αποθηκεύουμε τη θερμοκρασία στη λίστα temp\n",
    "  temp.append(num)\n",
    "\n",
    "# Aρχικοποίηση μεταβλητών\n",
    "maxThesi = 0\n",
    "minThesi = 0\n",
    "\n",
    "# Για όσο είναι το μήκος της λίστας\n",
    "for i in range(len(temp)):\n",
    "  if temp[i] < temp[minThesi]:\n",
    "    # Εκχωρούμε στη minThesi το i\n",
    "    minThesi = i\n",
    "  if temp[i] > temp[maxThesi]:\n",
    "    # Εκχωρούμε στη maxThesi το i\n",
    "    maxThesi = i\n",
    "\n",
    "# Eκτύπωση της max θερμοκρασίας και ήμερα\n",
    "print(\"Η max θερμοκρασία είναι %d την ημέρα %d\" % (temp[maxThesi], (maxThesi + 1)))\n",
    "# Eκτύπωση της min θερμοκρασίας και ήμερα\n",
    "print(\"Η min θερμοκρασία είναι %d την ημέρα %d\" % (temp[minThesi], (minThesi + 1)))"
   ]
  },
  {
   "cell_type": "markdown",
   "metadata": {},
   "source": [
    "## Άσκηση 4\n",
    "\n",
    "Σε ένα διαγωνισμό πληροφορικής συµµετέχουν 20 µαθητές. Να γραφεί πρόγραµµα το οποίο θα αποθηκεύει σε µία λίστα τα ονόματα των µαθητών και σε µία λίστα τους βαθμούς που έλαβε ο κάθε µαθητής στο διαγωνισμό. Το πρόγραµµα θα εμφανίζει το όνομα του µαθητή που κέρδισε το διαγωνισμό."
   ]
  },
  {
   "cell_type": "code",
   "execution_count": null,
   "metadata": {},
   "outputs": [],
   "source": [
    "# Αρχικοποίηση μεταβλητών\n",
    "MAX_ELEMENTS = 20\n",
    "names = []\n",
    "marks = []\n",
    "\n",
    "# Για MAX_ELEMENTS\n",
    "for i in range(MAX_ELEMENTS):\n",
    "  # Ζητάμε από το χρήστη να δώσει το όνομά του\n",
    "  onoma = input(\"Δώσε όνομα: \")\n",
    "  # Ζητάμε από το χρήστη να δώσει το βαθμό του και το μετατρέπουμε σε ακέραιο\n",
    "  vathmos = int(input(\"Δώσε βαθμό: \"))\n",
    "  # Αποθηκεύουμε το όνομα στη λίστα names\n",
    "  names.append(onoma)\n",
    "  # Αποθηκεύουμε το βαθμό στη λίστα marks\n",
    "  marks.append(vathmos)\n",
    "\n",
    "# Αρχικοποίηση μεταβλητής\n",
    "maxThesi = 0\n",
    "\n",
    "# Για όσο είναι το μήκος της λίστας\n",
    "for i in range(len(names)):\n",
    "  if marks[i] > marks[maxThesi]:\n",
    "    # Εκχωρούμε στη maxThesi το i\n",
    "    maxThesi = i\n",
    "# Εκτύπωση το όνομα του νικητή\n",
    "print(names[maxThesi])"
   ]
  }
 ],
 "metadata": {
  "language_info": {
   "name": "python"
  },
  "orig_nbformat": 4
 },
 "nbformat": 4,
 "nbformat_minor": 2
}
