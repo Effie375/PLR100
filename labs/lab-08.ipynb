{
 "cells": [
  {
   "cell_type": "markdown",
   "metadata": {},
   "source": [
    "# Αναζήτηση - Ταξινόμηση σε Λίστα\n",
    "\n",
    "## Αναζήτηση στοιχείων"
   ]
  },
  {
   "cell_type": "code",
   "execution_count": null,
   "metadata": {},
   "outputs": [],
   "source": [
    "# Δημιουργία λίστας\n",
    "lista = [1, 6, 3, 5, 4, 6]\n",
    "\n",
    "# Ζητάμε από το χρήστη να δώσει στοιχείο που αναζητά στη λίστα και το μετατρεπουμε σε ακέραιο\n",
    "key = int(input(\"Δώσε στοιχείο που αναζητάς: \"))\n",
    "\n",
    "# Αρχικοποίηση μεταβλητών\n",
    "done = True\n",
    "thesi = 0\n",
    "\n",
    "# Για κάθε στοιχείο της λίστας\n",
    "for arithmos in lista:\n",
    "  # Εάν το στιγμιαίο στοιχείο της λίστας είναι ίσο με το key\n",
    "  if arithmos == key:\n",
    "    # Εκτύπωση της θέσης όπου βρίσκεται το key\n",
    "    print(\"To %d βρίσκεται στην θέση %d της λίστας.\" % (key, thesi))\n",
    "    # Το done γίνεται False\n",
    "    done = False\n",
    "  # Αυξάνουμε τη μεταβλητή thesi κατά 1\n",
    "  thesi += 1\n",
    "\n",
    "# Εάν το done παραμείνει True\n",
    "if done == True:\n",
    "  print(\"Το στοιχείο που αναζητάς δεν είναι στη λίστα.\")"
   ]
  },
  {
   "cell_type": "markdown",
   "metadata": {},
   "source": [
    "## Ταξινόμηση"
   ]
  },
  {
   "cell_type": "code",
   "execution_count": null,
   "metadata": {},
   "outputs": [],
   "source": [
    "# Δημιουργία λίστας\n",
    "lista = [9, 3, 7, 5, 2]\n",
    "\n",
    "# Εκτύπωση της μη ταξινομημένης λίστας\n",
    "print(\"H μη ταξινομημένη λίστα είναι: %s\" % lista)\n",
    "\n",
    "for i in range(1, 5):\n",
    "  for j in range(4, i - 1, -1):\n",
    "    if lista[j - 1] > lista[j]:\n",
    "      # Swap lista\n",
    "      temp = lista[j - 1]\n",
    "      lista[j - 1] = lista[j]\n",
    "      lista[j] = temp\n",
    "\n",
    "# Εκτύπωση της ταξινομημένης λίστας\n",
    "print(\"H ταξινομημένη λίστα είναι: %s\" % lista)"
   ]
  },
  {
   "cell_type": "markdown",
   "metadata": {},
   "source": [
    "## Παράδειγμα ταξινόμησης\n",
    "\n",
    "Να γραφεί ένα πρόγραμμα το οποίο θα δέχεται πέντε αριθμούς, θα τους ταξινομεί σε αύξουσα σειρά και θα τους εμφανίζει."
   ]
  },
  {
   "cell_type": "code",
   "execution_count": null,
   "metadata": {},
   "outputs": [],
   "source": [
    "# Αρχικοποίηση μεταβλητών\n",
    "MAX_ELEMENTS = 5\n",
    "lista = []\n",
    "\n",
    "# Για MAX_ELEMENTS\n",
    "for i in range(MAX_ELEMENTS):\n",
    "  # Ζητάμε από το χρήστη να δώσει ένα στοιχείο και το μετατρεπουμε σε ακέραιο\n",
    "  num = int(input(\"Δώσε στοιχείο: \"))\n",
    "  # Αποθηκεύουμε το στοιχείο στη λίστα\n",
    "  lista.append(num)\n",
    "\n",
    "# Εκτύπωση της μη ταξινομημένης λίστας\n",
    "print(\"H μη ταξινομημένη λίστα είναι: %s\" % lista)\n",
    "\n",
    "for i in range(1, 5):\n",
    "  for j in range(4, i - 1, -1):\n",
    "    if lista[j - 1] > lista[j]:\n",
    "      # Swap lista\n",
    "      temp = lista[j - 1]\n",
    "      lista[j - 1] = lista[j]\n",
    "      lista[j] = temp\n",
    "\n",
    "# Εκτύπωση της ταξινομημένης λίστας\n",
    "print(\"H ταξινομημένη λίστα είναι: %s\" % lista)"
   ]
  },
  {
   "cell_type": "markdown",
   "metadata": {},
   "source": [
    "## Άσκηση 1\n",
    "\n",
    "Να γραφεί πρόγραμμα το οποίο θα διαβάζει 10 ακεραίους αριθμούς και έπειτα θα ζητά έναν ακέραιο τον οποίο θα αναζητά και αν υπάρχει θα εμφανίζει τη θέση του αλλιώς θα εμφανίζει μήνυμα ότι δεν υπάρχει το στοιχείο στον πίνακα.\n",
    "\n",
    "Οι αριθμοί είναι μοναδικοί στον πίνακα.\n",
    "\n",
    "**1ος τρόπος με την εντολή for:**"
   ]
  },
  {
   "cell_type": "code",
   "execution_count": null,
   "metadata": {},
   "outputs": [],
   "source": [
    "# Aρχικοποίηση μεταβλητών\n",
    "MAX_ELEMENTS = 10\n",
    "lista = []\n",
    "\n",
    "# Για MAX_ELEMENTS\n",
    "for i in range(MAX_ELEMENTS):\n",
    "  # Ζητάμε από το χρήστη να δώσει στοιχείο και τα μετατρεπουμε σε ακέραια\n",
    "  num = int(input(\"Δώσε στοιχείο: \"))\n",
    "  # Αποθηκεύουμε το στοιχείο στη λίστα\n",
    "  lista.append(num)\n",
    "\n",
    "# Ζητάμε από το χρήστη να δώσει στοιχείο που αναζητά στη λίστα\n",
    "key = int(input(\"Δώσε στοιχείο που αναζητάς: \"))\n",
    "\n",
    "# Αρχικοποίηση μεταβλητών\n",
    "done = True\n",
    "thesi = 0\n",
    "\n",
    "# Για κάθε στοιχείο της λίστας\n",
    "for i in lista:\n",
    "  # Εάν το στιγμιαίο στοιχείο της λίστας είναι ίσο με το key\n",
    "  if i == key:\n",
    "    # Εκτύπωση της θέσης όπου βρίσκεται το key\n",
    "    print(\"To %d βρίσκεται στην θέση %d της λίστας.\" % (key, thesi))\n",
    "    # Το done γίνεται False\n",
    "    done = False\n",
    "  # Αυξάνουμε τη μεταβλητή thesi κατά 1\n",
    "  thesi += 1\n",
    "\n",
    "# Εάν το done παραμείνει True\n",
    "if done == True:\n",
    "  print(\"To στοιχείο που αναζητάς δεν είναι στη λίστα.\")"
   ]
  },
  {
   "cell_type": "markdown",
   "metadata": {},
   "source": [
    "**2ος τρόπος με την εντολή while:**"
   ]
  },
  {
   "cell_type": "code",
   "execution_count": null,
   "metadata": {},
   "outputs": [],
   "source": [
    "# Aρχικοποίηση μεταβλητών\n",
    "MAX_ELEMENTS = 10\n",
    "lista = []\n",
    "\n",
    "# Για MAX_ELEMENTS\n",
    "for i in range(MAX_ELEMENTS):\n",
    "  # Ζητάμε από το χρήστη να δώσει στοιχείο και τα μετατρεπουμε σε ακέραια\n",
    "  num = int(input(\"Δώσε στοιχείο: \"))\n",
    "  # Αποθηκεύουμε το στοιχείο στη λίστα\n",
    "  lista.append(num)\n",
    "\n",
    "# Ζητάμε από το χρήστη να δώσει στοιχείο που αναζητά στη λίστα\n",
    "key = int(input(\"Δώσε στοιχείο που αναζητάς: \"))\n",
    "\n",
    "# Αρχικοποίηση μεταβλητών\n",
    "done = True\n",
    "thesi = 0\n",
    "\n",
    "while(thesi < len(lista)) and done:\n",
    "  if lista[thesi] == key:\n",
    "    print(\"Το στοιχείο είναι στη θέση:\", thesi)\n",
    "    # Το done γίνεται False\n",
    "    done = False\n",
    "  # Αυξάνουμε τη μεταβλητή thesi κατά 1\n",
    "  thesi += 1\n",
    "\n",
    "# Εάν το done παραμείνει True\n",
    "if done == True:\n",
    "  print(\"To στοιχείο που αναζητάς δεν είναι στη λίστα.\")"
   ]
  },
  {
   "cell_type": "markdown",
   "metadata": {},
   "source": [
    "## Άσκηση 2\n",
    "\n",
    "Έστω ότι δημιουργείτε ένα πρόγραμμα το οποίο κρατά το όνομα επτά παικτών.\n",
    "\n",
    "Να δημιουργηθεί πίνακας players στον οποίο θα αποθηκεύονται τα ονόματα των 7 παικτών. Θα ταξινομεί τα ονόματα σε φθίνουσα σειρά και θα εμφανίζει τα ονόματα των παικτών ταξινομημένα."
   ]
  },
  {
   "cell_type": "code",
   "execution_count": null,
   "metadata": {},
   "outputs": [],
   "source": [
    "# Αρχικοποίηση μεταβλητών\n",
    "MAX_PLAYERS = 7\n",
    "players = []\n",
    "\n",
    "# Για MAX_PLAYERS\n",
    "for i in range(MAX_PLAYERS):\n",
    "  # Ζητάμε από το χρήστη να δώσει το όνομά του\n",
    "  player = input(\"Δώσε όνομα παίκτη: \")\n",
    "  # Αποθηκεύουμε το όνομα στη λίστα players\n",
    "  players.append(player)\n",
    "\n",
    "# Εκτύπωση της μη ταξινομημένης λίστας με τα ονόματα\n",
    "print(\"Μη ταξινομημένοι παίκτες: %s\" % players)\n",
    "\n",
    "for i in range(1, MAX_PLAYERS):\n",
    "  for j in range(MAX_PLAYERS - 1, i - 1, -1):\n",
    "    if players[j - 1] < players[j]:\n",
    "      # Swap players\n",
    "      temp = players[j - 1]\n",
    "      players[j - 1] = players[j]\n",
    "      players[j] = temp\n",
    "\n",
    "# Εκτύπωση της ταξινομημένης λίστας με τα ονόματα\n",
    "print(\"Ταξινομημένοι παίκτες: %s\" % players)"
   ]
  },
  {
   "cell_type": "markdown",
   "metadata": {},
   "source": [
    "## Άσκηση 3\n",
    "\n",
    "Έστω ότι δημιουργείτε ένα πρόγραμμα το οποίο κρατά το σκορ για κάποιο παιχνίδι. Στο παιχνίδι συμμετέχουν πέντε παίκτες. Να δημιουργηθεί πίνακας players στον οποίο θα αποθηκεύονται τα ονόματα των 5 παικτών. Επίσης να δημιουργηθεί πίνακας scores στον οποίο θα αποθηκεύονται τα σκορ των παικτών. Θα ταξινομεί τα σκορ σε αύξουσα σειρά και θα εμφανίζει τα ονόματα των παικτών με τα αντίστοιχα σκορ τους βάσει της ταξινόμησης. Βρείτε το μέσο όρο του πίνακα scores και υπολογίστε/εμφανίστε ποια είναι η διαφορά του σκορ του κάθε παίκτη από το μέσο όρο."
   ]
  },
  {
   "cell_type": "code",
   "execution_count": null,
   "metadata": {},
   "outputs": [],
   "source": [
    "players = []\n",
    "scores = []\n",
    "\n",
    "for i in range(5):\n",
    "  name = input(\"Dose onoma paikti: \")\n",
    "  players.append(name)\n",
    "\n",
    "for i in range(5):\n",
    "  name = int(input(\"Dose score paixnidiou: \"))\n",
    "  scores.append(name)\n",
    "\n",
    "for i in range(1,5):\n",
    "  for j in range(4, i-1, -1):\n",
    "    if scores[j-1] > scores[j]:\n",
    "      temp = scores[j-1]\n",
    "      scores[j-1] = scores[j]\n",
    "      scores[j] = temp\n",
    "      temp2 = players[j-1]\n",
    "      players[j-1] = players[j]\n",
    "      players[j] = temp2\n",
    "\n",
    "print(players)\n",
    "print(scores)\n",
    "\n",
    "sum = 0\n",
    "\n",
    "for i in scores:\n",
    "  sum = sum + i\n",
    "\n",
    "mo = sum / 5\n",
    "\n",
    "for i in range(5):\n",
    "  print(\"H diafora tou score tou paikti \", players[i], \" apo ton meso oro einai: \", mo - scores[i])"
   ]
  }
 ],
 "metadata": {
  "language_info": {
   "name": "python"
  },
  "orig_nbformat": 4
 },
 "nbformat": 4,
 "nbformat_minor": 2
}
