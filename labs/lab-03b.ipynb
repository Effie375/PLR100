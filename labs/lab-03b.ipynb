{
 "cells": [
  {
   "cell_type": "markdown",
   "metadata": {},
   "source": [
    "# Debugging\n",
    "\n",
    "## Άσκηση 1\n",
    "\n",
    "Το παρακάτω πρόγραμμα διαβάζει δύο τυχαίους αριθμούς από το χρήστη και τους διαιρεί. Το πρόγραμμα εμφανίζει ο αποτέλεσμα της διαίρεσης στην οθόνη και στη συνέχεια ζητάει από το χρήστη να πληκτρολογήσει έναν ακόμη τυχαίο αριθμό. Ο τρίτος τυχαίος αριθμός πολλαπλασιάζεται με το αποτέλεσμα της διαίρεσης και το αποτέλεσμα της νέας πράξης εμφανίζεται στην οθόνη."
   ]
  },
  {
   "cell_type": "code",
   "execution_count": null,
   "metadata": {},
   "outputs": [],
   "source": [
    "# Program to divide two numbers and\n",
    "# multiply the result with a new number\n",
    "\n",
    "# Read two numbers\n",
    "number1 = input(First number: )\n",
    "number2 = input(\"Second number: '\n",
    "# Convert numbers to floats\n",
    "number1 = float(number)\n",
    "# Divide two numbers\n",
    "division = number1 // number\n",
    "\n",
    "# Display the division\n",
    "# will print value in float\n",
    "print(\"The division of \" number1, \" and \", number2 \" is \":, division\n",
    ")\n",
    "# Read third number\n",
    "number3 = input('\\nThird number ')\n",
    "# Convert number to integer\n",
    "number = int(number3)\n",
    "# Multiply two numbers\n",
    "result = int(number3 * number)\n",
    "# Display the multiplication\n",
    "print('The multiplication of\", number3 \"and\" division \"is' result)\n",
    "#print('The multiplication of %2d and %5.2f is %2d\" % (number3, division, result))"
   ]
  },
  {
   "cell_type": "markdown",
   "metadata": {},
   "source": [
    "Ο κώδικας περιλαμβάνει λάθη τα οποία πρέπει να εντοπιστούνε έτσι ώστε το πρόγραμμα να είναι πλήρως λειτουργικό. Η διαδικασία για την εύρεση λαθών σε κώδικα ονομάζεται αποσφαλμάτωση ή εκσφαλμάτωση (στα αγγλικά καλείται debugging)."
   ]
  },
  {
   "cell_type": "code",
   "execution_count": null,
   "metadata": {},
   "outputs": [],
   "source": [
    "# Program to divide two numbers and\n",
    "# multiply the result with a new number\n",
    "\n",
    "# Read two numbers\n",
    "number1 = input(\"First number: \")\n",
    "number2 = input(\"Second number: \")\n",
    "# Convert numbers to floats\n",
    "number1 = float(number1)\n",
    "number2 = float(number2)\n",
    "# Divide two numbers\n",
    "division = number1 / number2\n",
    "\n",
    "# Display the division\n",
    "# will print value in float\n",
    "print(\"The division of \", number1, \" and \", number2, \" is :\", division)\n",
    "# Read third number\n",
    "number3 = input('\\nThird number: ')\n",
    "# Convert number to integer\n",
    "number3 = int(number3)\n",
    "# Multiply two numbers\n",
    "result = int(number3 * division)\n",
    "# Display the multiplication\n",
    "print(\"The multiplication of\", number3, \"and\", division, \"is\", result)\n",
    "#print(\"The multiplication of %2d and %5.2f is %.2d\" % (number3, division, result))"
   ]
  },
  {
   "cell_type": "markdown",
   "metadata": {},
   "source": [
    "## Άσκηση 2\n",
    "\n",
    "Να γραφεί πρόγραμμα όπου να ρωτάει το χρήστη το όνομα του και να το εκτυπώνει μετά από το \"Χάρηκα που σε γνώρισα\". Στη συνέχεια θα ζητάει την ηλικία του χρήστη και θα υπολογίζει την ηλικία για το επόμενο έτος, την οποία θα εκτυπώνει. Τέλος θα υπολογίζει πόσα χρόνια χρειάζεται ακόμη για να φτάσει τα 100 και θα τα εμφανίζει με ένα μήνυμα \"Θέλεις ακόμη Χ έτη για να φτάσεις τα 100\"."
   ]
  },
  {
   "cell_type": "code",
   "execution_count": null,
   "metadata": {},
   "outputs": [],
   "source": [
    "name = input(\"Δώσε το όνομα σου: \")\n",
    "print(\"Χάρηκα που σε γνώρισα\", name)\n",
    "age = int(input(\"Πόσο χρονών είσαι: \"))\n",
    "print(\"Τον επόμενο χρόνο θα είσαι %d.\" %(age + 1))\n",
    "print(\"Θέλεις ακόμη %d έτη για να φτάσεις τα 100.\" %(100 - age))"
   ]
  }
 ],
 "metadata": {
  "language_info": {
   "name": "python"
  },
  "orig_nbformat": 4
 },
 "nbformat": 4,
 "nbformat_minor": 2
}
